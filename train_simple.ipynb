{
 "cells": [
  {
   "cell_type": "code",
   "execution_count": null,
   "metadata": {},
   "outputs": [],
   "source": [
    "from typing import Generator\n",
    "from contextlib import nullcontext\n",
    "\n",
    "import torch\n",
    "from torch import nn, Tensor\n",
    "import torch.nn.functional as F\n",
    "\n",
    "import time\n",
    "import numpy as np\n",
    "import matplotlib.pyplot as plt\n",
    "\n",
    "from model import DecoderTransformer, DecoderTransformerConfig\n",
    "\n",
    "if torch.cuda.is_available():\n",
    "    device = \"cuda\"\n",
    "elif torch.backends.mps.is_available():\n",
    "    device = \"mps\"\n",
    "else:\n",
    "    device = \"cpu\"\n",
    "\n",
    "context = nullcontext() if device == \"mps\" else torch.autocast(device)\n",
    "\n",
    "print(f\"using {device} device\")"
   ]
  },
  {
   "cell_type": "code",
   "execution_count": null,
   "metadata": {},
   "outputs": [],
   "source": [
    "OUT_DIR = \"out\"\n",
    "\n",
    "MAX_ITERS = 1000\n",
    "EVAL_INTERVAL = 1\n",
    "\n",
    "BLOCK_SIZE = 128\n",
    "BATCH_SIZE = 256\n",
    "\n",
    "MIN_LR = 1e-4\n",
    "MAX_LR = 1e-5\n",
    "WARMUP_ITERS = MAX_ITERS // 100\n",
    "LR_DECAY_ITERS = MAX_ITERS - WARMUP_ITERS"
   ]
  },
  {
   "cell_type": "code",
   "execution_count": null,
   "metadata": {},
   "outputs": [],
   "source": [
    "with open(\"data/shakespeare.txt\", \"r\", encoding=\"utf-8\") as f:\n",
    "    text = f.read()"
   ]
  },
  {
   "cell_type": "code",
   "execution_count": null,
   "metadata": {},
   "outputs": [],
   "source": [
    "chars = sorted(list(set(text)))\n",
    "vocab_size = len(chars)\n",
    "\n",
    "char2int = {c: i for i, c in enumerate(chars)}\n",
    "int2char = {i: c for i, c in enumerate(chars)}\n",
    "\n",
    "\n",
    "def encode(s: str) -> list[int]:\n",
    "    return [char2int[c] for c in s if c in char2int]\n",
    "\n",
    "\n",
    "def decode(y: list[int] | np.ndarray | Tensor) -> str:\n",
    "    return \"\".join([int2char[int(i)] for i in y if int(i) in int2char])"
   ]
  },
  {
   "cell_type": "code",
   "execution_count": null,
   "metadata": {},
   "outputs": [],
   "source": [
    "full_data = torch.tensor(encode(text), dtype=torch.int64)\n",
    "\n",
    "val_size = len(full_data) // 10\n",
    "\n",
    "train_data = full_data[val_size:]\n",
    "val_data = full_data[:val_size]"
   ]
  },
  {
   "cell_type": "code",
   "execution_count": null,
   "metadata": {},
   "outputs": [],
   "source": [
    "def block_data(data: Tensor, block_size=BLOCK_SIZE) -> tuple[Tensor, Tensor]:\n",
    "    n_blocks = len(data) - block_size - 1\n",
    "    x = torch.stack([data[i:i + block_size] for i in range(n_blocks)])\n",
    "    y = torch.stack([data[i:i + block_size] for i in range(1, n_blocks + 1)])\n",
    "    return x, y"
   ]
  },
  {
   "cell_type": "code",
   "execution_count": null,
   "metadata": {},
   "outputs": [],
   "source": [
    "x_train, y_train = block_data(train_data)\n",
    "x_val, y_val = block_data(val_data)"
   ]
  },
  {
   "cell_type": "code",
   "execution_count": null,
   "metadata": {},
   "outputs": [],
   "source": [
    "def batch_iterate(\n",
    "    x: Tensor, \n",
    "    y: Tensor, \n",
    "    batch_size=BATCH_SIZE,\n",
    "    device=device,\n",
    ") -> Generator[tuple[Tensor, Tensor], None, None]:\n",
    "    permutation = torch.from_numpy(np.random.permutation(len(y)))\n",
    "    for i in range(0, len(y), batch_size):\n",
    "        idxs = permutation[i:i + batch_size]\n",
    "        bx = x[idxs].to(device)\n",
    "        by = y[idxs].to(device)\n",
    "        yield bx, by"
   ]
  },
  {
   "cell_type": "code",
   "execution_count": null,
   "metadata": {},
   "outputs": [],
   "source": [
    "@torch.no_grad()\n",
    "def evaluate_loss(model: nn.Module, x: Tensor, y: Tensor, max_iters=100) -> float:\n",
    "    loss_sum = 0\n",
    "    cnt = 0\n",
    "    for i, (bx, by) in enumerate(batch_iterate(x, y, BATCH_SIZE)):\n",
    "        if i >= max_iters:\n",
    "            break\n",
    "\n",
    "        logits = model(bx)\n",
    "        loss = F.cross_entropy(logits, by).cpu()\n",
    "        loss_sum += loss.cpu().item() * len(x)\n",
    "        cnt += len(x)\n",
    "    return loss_sum / cnt"
   ]
  },
  {
   "cell_type": "code",
   "execution_count": null,
   "metadata": {},
   "outputs": [],
   "source": [
    "def get_lr(iter_num: int) -> float:\n",
    "    if iter_num < WARMUP_ITERS:\n",
    "        return MAX_LR * iter_num / WARMUP_ITERS\n",
    "\n",
    "    if iter_num > LR_DECAY_ITERS:\n",
    "        return MIN_LR\n",
    "\n",
    "    decay_ratio = (iter_num - WARMUP_ITERS) / (LR_DECAY_ITERS - WARMUP_ITERS)\n",
    "    assert 0 <= decay_ratio and decay_ratio <= 1\n",
    "    coeff = 0.5 * (1.0 + np.cos(np.pi * decay_ratio))\n",
    "    return MIN_LR + coeff * (MAX_LR - MIN_LR)"
   ]
  },
  {
   "cell_type": "code",
   "execution_count": null,
   "metadata": {},
   "outputs": [],
   "source": [
    "causal_config = DecoderTransformerConfig(\n",
    "    block_size=BLOCK_SIZE,\n",
    "    vocab_size=vocab_size,\n",
    "    n_layer=2,\n",
    "    n_head=4,\n",
    "    n_embd=512,\n",
    "    is_causal=True,\n",
    ")\n",
    "\n",
    "causal_model = DecoderTransformer(causal_config).to(device)\n",
    "\n",
    "causal_optimizer = causal_model.configure_optimizers(weight_decay=0.1, learning_rate=MIN_LR, \n",
    "                                                     betas=(0.9, 0.99), device_type=device)\n",
    "\n",
    "noncausal_config = DecoderTransformerConfig(\n",
    "    block_size=BLOCK_SIZE,\n",
    "    vocab_size=vocab_size,\n",
    "    n_layer=2,\n",
    "    n_head=4,\n",
    "    n_embd=512,\n",
    "    is_causal=False,\n",
    ")\n",
    "\n",
    "noncausal_model = DecoderTransformer(noncausal_config).to(device)\n",
    "\n",
    "noncausal_optimizer = noncausal_model.configure_optimizers(weight_decay=0.1, learning_rate=MIN_LR, \n",
    "                                                           betas=(0.9, 0.99), device_type=device)\n",
    "\n",
    "models_and_optimizers = [(causal_model, causal_optimizer), (noncausal_model, noncausal_optimizer)]"
   ]
  },
  {
   "cell_type": "code",
   "execution_count": null,
   "metadata": {},
   "outputs": [],
   "source": [
    "i = 0\n",
    "t0 = time.time()\n",
    "losses = [[], []]"
   ]
  },
  {
   "cell_type": "code",
   "execution_count": null,
   "metadata": {},
   "outputs": [],
   "source": [
    "while i < MAX_ITERS:\n",
    "    for x, y in batch_iterate(x_train, y_train):\n",
    "        if i >= MAX_ITERS:\n",
    "            break\n",
    "\n",
    "        lr = get_lr(i)\n",
    "        for k, (model, optimizer) in enumerate(models_and_optimizers):\n",
    "            for param_group in optimizer.param_groups:\n",
    "                param_group[\"lr\"] = lr\n",
    "            \n",
    "            with context:\n",
    "                _, loss = model(x, y, backward=True)\n",
    "\n",
    "            optimizer.step()\n",
    "            optimizer.zero_grad()\n",
    "\n",
    "            losses[k].append(loss.detach().cpu())\n",
    "        \n",
    "        if (i + 1) % EVAL_INTERVAL == 0:\n",
    "            dt = time.time() - t0\n",
    "            t0 = time.time()\n",
    "            print(f\"{f'[{i + 1}]':8}\", end=\"\")\n",
    "            print(f\"causal loss: {np.mean(losses[0][-EVAL_INTERVAL:]):.3f}\", end=\", \")\n",
    "            print(f\"noncausal loss: {np.mean(losses[0][-EVAL_INTERVAL:]):.3f}\", end=\", \")\n",
    "            print(f\"time: {dt:.1f}s\")\n",
    "        \n",
    "        i += 1"
   ]
  },
  {
   "cell_type": "code",
   "execution_count": null,
   "metadata": {},
   "outputs": [],
   "source": [
    "plt.plot(losses[0], label=\"causal\")\n",
    "plt.plot(losses[1], label=\"noncausal\")\n",
    "plt.xlabel(\"Iteration\")\n",
    "plt.ylabel(\"Loss\")\n",
    "plt.legend()\n",
    "plt.show()"
   ]
  },
  {
   "cell_type": "code",
   "execution_count": null,
   "metadata": {},
   "outputs": [],
   "source": []
  }
 ],
 "metadata": {
  "kernelspec": {
   "display_name": "base",
   "language": "python",
   "name": "python3"
  },
  "language_info": {
   "codemirror_mode": {
    "name": "ipython",
    "version": 3
   },
   "file_extension": ".py",
   "mimetype": "text/x-python",
   "name": "python",
   "nbconvert_exporter": "python",
   "pygments_lexer": "ipython3",
   "version": "3.12.2"
  }
 },
 "nbformat": 4,
 "nbformat_minor": 2
}
