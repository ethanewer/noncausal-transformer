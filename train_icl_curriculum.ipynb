{
 "cells": [
  {
   "cell_type": "code",
   "execution_count": null,
   "metadata": {},
   "outputs": [],
   "source": [
    "# uncomment for running in colab\n",
    "\n",
    "# from google.colab import drive\n",
    "# drive.mount(\"/content/drive\")\n",
    "# %cd /content/drive/MyDrive/noncausal-transformer/"
   ]
  },
  {
   "cell_type": "code",
   "execution_count": null,
   "metadata": {},
   "outputs": [],
   "source": [
    "from contextlib import nullcontext\n",
    "import time\n",
    "import numpy as np\n",
    "import matplotlib.pyplot as plt\n",
    "import torch\n",
    "from torch import nn, optim\n",
    "import torch.nn.functional as F\n",
    "from model import DecoderTransformerStackICL, DecoderTransformerConfig\n",
    "from icl_data import LinearCurriculumGenerator \n",
    "\n",
    "if torch.cuda.is_available():\n",
    "    device = \"cuda\"\n",
    "elif torch.backends.mps.is_available():\n",
    "    device = \"mps\"\n",
    "else:\n",
    "    device = \"cpu\"\n",
    "\n",
    "context = nullcontext() if device == \"mps\" else torch.autocast(device)\n",
    "\n",
    "print(f\"using {device} device\")"
   ]
  },
  {
   "cell_type": "code",
   "execution_count": null,
   "metadata": {},
   "outputs": [],
   "source": [
    "OUT_DIR = \"out\"\n",
    "\n",
    "MAX_ITERS = 500000\n",
    "EVAL_INTERVAL = 1\n",
    "\n",
    "N_DIM = 20\n",
    "\n",
    "BLOCK_SIZE = N_DIM * 4\n",
    "BATCH_SIZE = 128\n",
    "\n",
    "MIN_LR = 1e-4\n",
    "MAX_LR = 1e-5\n",
    "WARMUP_ITERS = 1000\n",
    "LR_DECAY_ITERS = MAX_ITERS - WARMUP_ITERS"
   ]
  },
  {
   "cell_type": "code",
   "execution_count": null,
   "metadata": {},
   "outputs": [],
   "source": [
    "model_architectures = {\n",
    "    \"tiny\": {\n",
    "        \"n_embd\": 64,\n",
    "        \"n_layer\": 3,\n",
    "        \"n_head\": 2,\n",
    "    },\n",
    "    \"small\": {\n",
    "        \"n_embd\": 128,\n",
    "        \"n_layer\": 6,\n",
    "        \"n_head\": 4,\n",
    "    },\n",
    "    \"standard\": {\n",
    "        \"n_embd\": 256,\n",
    "        \"n_layer\": 12,\n",
    "        \"n_head\": 8,\n",
    "    }\n",
    "}"
   ]
  },
  {
   "cell_type": "code",
   "execution_count": null,
   "metadata": {},
   "outputs": [],
   "source": [
    "model_architecture = model_architectures[\"tiny\"]\n",
    "\n",
    "causal_config = DecoderTransformerConfig(\n",
    "    block_size=BLOCK_SIZE,\n",
    "    n_layer=model_architecture[\"n_layer\"],\n",
    "    n_head=model_architecture[\"n_head\"],\n",
    "    n_embd=model_architecture[\"n_embd\"],\n",
    "    n_dim=N_DIM,\n",
    "    is_causal=True,\n",
    "    loss_fn=F.mse_loss,\n",
    ")\n",
    "\n",
    "noncausal_config = DecoderTransformerConfig(\n",
    "    block_size=BLOCK_SIZE,\n",
    "    n_layer=model_architecture[\"n_layer\"],\n",
    "    n_head=model_architecture[\"n_head\"],\n",
    "    n_embd=model_architecture[\"n_embd\"],\n",
    "    n_dim=N_DIM,\n",
    "    is_causal=False,\n",
    "    loss_fn=F.mse_loss,\n",
    ")"
   ]
  },
  {
   "cell_type": "code",
   "execution_count": null,
   "metadata": {},
   "outputs": [],
   "source": [
    "data_generator = LinearCurriculumGenerator(start_dim=5, end_dim=20, \n",
    "                                           interval=2000, increment=1)"
   ]
  },
  {
   "cell_type": "code",
   "execution_count": null,
   "metadata": {},
   "outputs": [],
   "source": [
    "def get_lr(iter_num: int) -> float:\n",
    "    if iter_num < WARMUP_ITERS:\n",
    "        return MAX_LR * iter_num / WARMUP_ITERS\n",
    "    \n",
    "    if iter_num > LR_DECAY_ITERS:\n",
    "        return MIN_LR\n",
    "    \n",
    "    decay_ratio = (iter_num - WARMUP_ITERS) / (LR_DECAY_ITERS - WARMUP_ITERS)\n",
    "    assert 0 <= decay_ratio and decay_ratio <= 1\n",
    "    coeff = 0.5 * (1.0 + np.cos(np.pi * decay_ratio))\n",
    "    return MIN_LR + coeff * (MAX_LR - MIN_LR)"
   ]
  },
  {
   "cell_type": "code",
   "execution_count": null,
   "metadata": {},
   "outputs": [],
   "source": [
    "causal_model = DecoderTransformerStackICL(causal_config).to(device)\n",
    "noncausal_model = DecoderTransformerStackICL(noncausal_config).to(device)\n",
    "\n",
    "with torch.no_grad():\n",
    "    for (n1, p1), (n2, p2) in zip(\n",
    "        causal_model.named_parameters(), \n",
    "        noncausal_model.named_parameters(),\n",
    "    ):\n",
    "        assert n1 == n2\n",
    "        p1.copy_(p2)"
   ]
  },
  {
   "cell_type": "code",
   "execution_count": null,
   "metadata": {},
   "outputs": [],
   "source": [
    "causal_optimizer = causal_model.configure_optimizers(weight_decay=0.1, \n",
    "                                                     learning_rate=MIN_LR, \n",
    "                                                     betas=(0.9, 0.99), \n",
    "                                                     device_type=device)\n",
    "\n",
    "noncausal_optimizer = noncausal_model.configure_optimizers(weight_decay=0.1, \n",
    "                                                           learning_rate=MIN_LR, \n",
    "                                                           betas=(0.9, 0.99), \n",
    "                                                           device_type=device)"
   ]
  },
  {
   "cell_type": "code",
   "execution_count": null,
   "metadata": {},
   "outputs": [],
   "source": [
    "def save_checkpoint(\n",
    "    model: nn.Module, \n",
    "    optimizer: optim.Optimizer, \n",
    "    i: int,\n",
    "    best_loss: float,\n",
    "    checkpoint_name: str,\n",
    ") -> None:\n",
    "    \"\"\"Saves model, optimizer, iteration number of checkpoint, and best loss.\"\"\"\n",
    "    checkpoint = {\n",
    "        \"model\": model.state_dict(),\n",
    "        \"optimizer\": optimizer.state_dict(),\n",
    "        \"i\": i,\n",
    "        \"best_loss\": best_loss,\n",
    "    }\n",
    "    torch.save(checkpoint, f\"{OUT_DIR}/checkpoints/{checkpoint_name}.pt\")\n",
    "\n",
    "\n",
    "def load_checkpoint(\n",
    "    model: nn.Module, \n",
    "    optimizer: optim.Optimizer, \n",
    "    checkpoint_name: str,\n",
    ") -> tuple[nn.Module, optim.Optimizer, int, float]:\n",
    "    \"\"\"Returns model, optimizer, iteration number of checkpoint, and best loss.\"\"\"\n",
    "    checkpoint = torch.load(f\"{OUT_DIR}/checkpoints/{checkpoint_name}.pt\")\n",
    "    model.load_state_dict(checkpoint[\"model\"])\n",
    "    optimizer.load_state_dict(checkpoint[\"optimizer\"])\n",
    "    i = checkpoint[\"i\"]\n",
    "    best_loss = checkpoint[\"best_loss\"]\n",
    "    return model, optimizer, i, best_loss\n",
    "\n",
    "\n",
    "def save_results(\n",
    "    losses: list[int], \n",
    "    pointwise_losses: list[list[int]], \n",
    "    results_name: str\n",
    ") -> None:\n",
    "    \"\"\"\n",
    "    Saves losses and pointwise losses. Pointwise losses are padded with NaN and saved as a matrix.\n",
    "    \"\"\"\n",
    "    losses = np.array(losses)\n",
    "    max_len = max(len(row) for row in pointwise_losses)\n",
    "    for row in pointwise_losses:\n",
    "        row.extend([float(\"nan\")] * (max_len - len(row)))\n",
    "    pointwise_losses = np.array(pointwise_losses)\n",
    "    np.savez(f\"{OUT_DIR}/results/{results_name}.npz\", )"
   ]
  },
  {
   "cell_type": "code",
   "execution_count": null,
   "metadata": {},
   "outputs": [],
   "source": [
    "start_i = 0\n",
    "best_loss = [float(\"inf\"), float(\"inf\")]"
   ]
  },
  {
   "cell_type": "code",
   "execution_count": null,
   "metadata": {},
   "outputs": [],
   "source": [
    "# causal_model, causal_optimizer, i1, best_causal_loss = load_checkpoint(causal_model, \n",
    "#                                                                        causal_optimizer, \n",
    "#                                                                        \"causal\")\n",
    "\n",
    "# noncausal_model, noncausal_optimizer, i2, best_noncausal_loss = load_checkpoint(noncausal_model, \n",
    "#                                                                                 noncausal_optimizer, \n",
    "#                                                                                 \"noncausal\")\n",
    "\n",
    "# start_i = min(i1, i2)\n",
    "# best_loss = [best_causal_loss, best_noncausal_loss]"
   ]
  },
  {
   "cell_type": "code",
   "execution_count": null,
   "metadata": {},
   "outputs": [],
   "source": [
    "models_and_optimizers = [(causal_model, causal_optimizer), (noncausal_model, noncausal_optimizer)]\n",
    "losses = [[], []]\n",
    "pointwise_losses = [[], []]"
   ]
  },
  {
   "cell_type": "code",
   "execution_count": null,
   "metadata": {},
   "outputs": [],
   "source": [
    "t0 = time.time()\n",
    "\n",
    "for i in range(2):\n",
    "    data = data_generator.generate_batch(BATCH_SIZE).to(device)\n",
    "    forward_idxs = [i for i in range(data.shape[1]) if i % 2 == 0]\n",
    "    \n",
    "    x = data[:, :-1, :]\n",
    "    y = data[:, 1:, :]\n",
    "    \n",
    "    lr = get_lr(i)\n",
    "    for k, (model, optimizer) in enumerate(models_and_optimizers):\n",
    "        for param_group in optimizer.param_groups:\n",
    "            param_group[\"lr\"] = lr\n",
    "        \n",
    "        with context:\n",
    "            y_hat, loss = model(x, y, backward=True, \n",
    "                                forward_idxs=forward_idxs, fast_backward=True)\n",
    "\n",
    "        optimizer.step()\n",
    "        optimizer.zero_grad()\n",
    "\n",
    "        losses[k].append(loss.detach().cpu())\n",
    "\n",
    "        unreduced_loss = F.mse_loss(y[:, forward_idxs, 0], y_hat[:, :, 0], reduction=\"none\")\n",
    "        pointwise_loss = torch.mean(unreduced_loss, dim=0)\n",
    "        pointwise_losses[k].append(pointwise_loss.cpu().tolist())\n",
    "    \n",
    "    if (i + 1) % EVAL_INTERVAL == 0:\n",
    "        print(f\"{f'[{i + 1}]':8}\", end=\"\")\n",
    "\n",
    "        dt = time.time() - t0\n",
    "        t0 = time.time()\n",
    "\n",
    "        for k, name in enumerate([\"causal\", \"noncausal\"]):\n",
    "            loss = np.mean(losses[k][-EVAL_INTERVAL:])\n",
    "\n",
    "            if loss < best_loss[k]:\n",
    "                model, optimizer = models_and_optimizers[k]\n",
    "                save_checkpoint(model, optimizer, i, loss, name)\n",
    "\n",
    "            save_results(losses[k], pointwise_losses[k], name)\n",
    "\n",
    "            print(f\"{name} loss: {loss:.3f}\", end=\", \")\n",
    "\n",
    "        print(f\"time: {dt:.1f}s\")"
   ]
  },
  {
   "cell_type": "code",
   "execution_count": null,
   "metadata": {},
   "outputs": [],
   "source": [
    "plt.plot(losses[0], label=\"causal\")\n",
    "plt.plot(losses[1], label=\"noncausal\")\n",
    "plt.xlabel(\"Iteration\")\n",
    "plt.ylabel(\"Loss\")\n",
    "plt.legend()\n",
    "plt.show()"
   ]
  },
  {
   "cell_type": "code",
   "execution_count": null,
   "metadata": {},
   "outputs": [],
   "source": []
  }
 ],
 "metadata": {
  "kernelspec": {
   "display_name": "base",
   "language": "python",
   "name": "python3"
  },
  "language_info": {
   "codemirror_mode": {
    "name": "ipython",
    "version": 3
   },
   "file_extension": ".py",
   "mimetype": "text/x-python",
   "name": "python",
   "nbconvert_exporter": "python",
   "pygments_lexer": "ipython3",
   "version": "3.12.2"
  }
 },
 "nbformat": 4,
 "nbformat_minor": 2
}
