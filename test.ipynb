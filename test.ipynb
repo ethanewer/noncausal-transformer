{
 "cells": [
  {
   "cell_type": "code",
   "execution_count": 1,
   "metadata": {},
   "outputs": [],
   "source": [
    "import torch\n",
    "from data_generators import LinearGenerator\n",
    "from models import SlowTransformer, SlowLanguageTransformer"
   ]
  },
  {
   "cell_type": "code",
   "execution_count": 2,
   "metadata": {},
   "outputs": [],
   "source": [
    "n = 3\n",
    "\n",
    "gen = LinearGenerator(n, 1)\n",
    "x, y = gen.generate_batch(10, 15)\n",
    "\n",
    "transformer = SlowTransformer(n_embed=n,\n",
    "                              n_head=1,\n",
    "                              block_size=100,\n",
    "                              n_layer=2,\n",
    "                              dropout=0,\n",
    "                              is_causal=True) \n",
    "\n",
    "y_hat = transformer.forward(x)\n",
    "assert y.shape == y_hat.shape"
   ]
  },
  {
   "cell_type": "code",
   "execution_count": 6,
   "metadata": {},
   "outputs": [],
   "source": [
    "batch_size = 10\n",
    "vocab_size = 128\n",
    "input_size = 12\n",
    "\n",
    "x = torch.randint(vocab_size, (batch_size, input_size))\n",
    "\n",
    "lang_transformer = SlowLanguageTransformer(n_embed=100,\n",
    "                                           n_head=10,\n",
    "                                           block_size=100,\n",
    "                                           n_layer=2,\n",
    "                                           vocab_size=vocab_size,\n",
    "                                           dropout=0,\n",
    "                                           is_causal=True)\n",
    "\n",
    "logits = lang_transformer(x)\n",
    "assert logits.shape == (batch_size, vocab_size)\n",
    "\n",
    "y_hat = lang_transformer.generate(x, max_new_tokens=10)\n",
    "assert y_hat.shape == (batch_size, input_size + 10)"
   ]
  },
  {
   "cell_type": "code",
   "execution_count": null,
   "metadata": {},
   "outputs": [],
   "source": []
  }
 ],
 "metadata": {
  "kernelspec": {
   "display_name": "base",
   "language": "python",
   "name": "python3"
  },
  "language_info": {
   "codemirror_mode": {
    "name": "ipython",
    "version": 3
   },
   "file_extension": ".py",
   "mimetype": "text/x-python",
   "name": "python",
   "nbconvert_exporter": "python",
   "pygments_lexer": "ipython3",
   "version": "3.12.2"
  }
 },
 "nbformat": 4,
 "nbformat_minor": 2
}
