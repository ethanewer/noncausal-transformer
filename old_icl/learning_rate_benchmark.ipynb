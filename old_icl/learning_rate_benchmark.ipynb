{
 "cells": [
  {
   "cell_type": "code",
   "execution_count": 1,
   "metadata": {},
   "outputs": [],
   "source": [
    "# uncomment for running in colab\n",
    "\n",
    "# from google.colab import drive\n",
    "# drive.mount(\"/content/drive\")\n",
    "# %cd /content/drive/MyDrive/noncausal-transformer/"
   ]
  },
  {
   "cell_type": "code",
   "execution_count": 4,
   "metadata": {},
   "outputs": [
    {
     "name": "stdout",
     "output_type": "stream",
     "text": [
      "using mps device\n"
     ]
    }
   ],
   "source": [
    "from contextlib import nullcontext\n",
    "import time\n",
    "import numpy as np\n",
    "import matplotlib.pyplot as plt\n",
    "import torch\n",
    "from torch import nn, optim\n",
    "import torch.nn.functional as F\n",
    "from model import DecoderTransformerStackICL, DecoderTransformerConfig\n",
    "from icl_data import LinearGenerator \n",
    "\n",
    "if torch.cuda.is_available():\n",
    "    device = \"cuda\"\n",
    "elif torch.backends.mps.is_available():\n",
    "    device = \"mps\"\n",
    "else:\n",
    "    device = \"cpu\"\n",
    "\n",
    "context = nullcontext() if device == \"mps\" else torch.autocast(device)\n",
    "\n",
    "print(f\"using {device} device\")"
   ]
  },
  {
   "cell_type": "code",
   "execution_count": 5,
   "metadata": {},
   "outputs": [],
   "source": [
    "OUT_DIR = \"out\"\n",
    "\n",
    "MAX_ITERS = 500000\n",
    "EVAL_INTERVAL = 1\n",
    "\n",
    "N_DIM = 20\n",
    "\n",
    "BLOCK_SIZE = N_DIM * 4\n",
    "BATCH_SIZE = 128\n",
    "\n",
    "MIN_LR = [1e-5, 1e-4, 1e-4]\n",
    "MAX_LR = [1e-4, 1e-3, 1e-4]\n",
    "WARMUP_ITERS = 1000\n",
    "LR_DECAY_ITERS = MAX_ITERS - WARMUP_ITERS"
   ]
  },
  {
   "cell_type": "code",
   "execution_count": 6,
   "metadata": {},
   "outputs": [],
   "source": [
    "model_architectures = {\n",
    "    \"tiny\": {\n",
    "        \"n_embd\": 64,\n",
    "        \"n_layer\": 3,\n",
    "        \"n_head\": 2,\n",
    "    },\n",
    "    \"small\": {\n",
    "        \"n_embd\": 128,\n",
    "        \"n_layer\": 6,\n",
    "        \"n_head\": 4,\n",
    "    },\n",
    "    \"standard\": {\n",
    "        \"n_embd\": 256,\n",
    "        \"n_layer\": 12,\n",
    "        \"n_head\": 8,\n",
    "    }\n",
    "}"
   ]
  },
  {
   "cell_type": "code",
   "execution_count": 7,
   "metadata": {},
   "outputs": [],
   "source": [
    "model_architecture = model_architectures[\"tiny\"]\n",
    "\n",
    "causal_config = DecoderTransformerConfig(\n",
    "    block_size=BLOCK_SIZE,\n",
    "    n_layer=model_architecture[\"n_layer\"],\n",
    "    n_head=model_architecture[\"n_head\"],\n",
    "    n_embd=model_architecture[\"n_embd\"],\n",
    "    n_dim=N_DIM,\n",
    "    is_causal=True,\n",
    "    loss_fn=F.mse_loss,\n",
    ")"
   ]
  },
  {
   "cell_type": "code",
   "execution_count": 8,
   "metadata": {},
   "outputs": [],
   "source": [
    "data_generator = LinearGenerator(N_DIM, 1)"
   ]
  },
  {
   "cell_type": "code",
   "execution_count": 9,
   "metadata": {},
   "outputs": [],
   "source": [
    "def get_lr(iter_num: int, k: int) -> float:\n",
    "    if iter_num < WARMUP_ITERS:\n",
    "        return MAX_LR[k] * iter_num / WARMUP_ITERS\n",
    "    \n",
    "    if iter_num > LR_DECAY_ITERS:\n",
    "        return MIN_LR[k]\n",
    "    \n",
    "    decay_ratio = (iter_num - WARMUP_ITERS) / (LR_DECAY_ITERS - WARMUP_ITERS)\n",
    "    assert 0 <= decay_ratio and decay_ratio <= 1\n",
    "    coeff = 0.5 * (1.0 + np.cos(np.pi * decay_ratio))\n",
    "    return MIN_LR[k] + coeff * (MAX_LR[k] - MIN_LR[k])"
   ]
  },
  {
   "cell_type": "code",
   "execution_count": 10,
   "metadata": {},
   "outputs": [
    {
     "data": {
      "image/png": "[encoded data removed]",
      "text/plain": [
       "<Figure size 640x480 with 1 Axes>"
      ]
     },
     "metadata": {},
     "output_type": "display_data"
    }
   ],
   "source": [
    "lrs = [[get_lr(i, k) for i in range(MAX_ITERS * 2)] for k in range(3)]\n",
    "\n",
    "plt.plot(lrs[0], label=\"0\")\n",
    "plt.plot(lrs[1], label=\"1\")\n",
    "plt.plot(lrs[2], label=\"2\")\n",
    "plt.show()"
   ]
  },
  {
   "cell_type": "code",
   "execution_count": 9,
   "metadata": {},
   "outputs": [],
   "source": [
    "models = [DecoderTransformerStackICL(causal_config).to(device) for _ in range(3)]\n",
    "\n",
    "with torch.no_grad():\n",
    "    for (n1, p1), (n2, p2), (n3, p3) in zip(*[m.named_parameters() for m in models]):\n",
    "        assert n1 == n2 and n1 == n3\n",
    "        p1.copy_(p3)\n",
    "        p2.copy_(p3)\n",
    "        assert torch.all(p1 == p2) and torch.all(p1 == p3)\n",
    "\n",
    "optimizers = [m.configure_optimizers(\n",
    "    weight_decay=0.1, \n",
    "    learning_rate=MIN_LR[i], \n",
    "    betas=(0.9, 0.99), \n",
    "    device_type=device,\n",
    ") for i, m in enumerate(models)]"
   ]
  },
  {
   "cell_type": "code",
   "execution_count": 10,
   "metadata": {},
   "outputs": [],
   "source": [
    "models_and_optimizers = [(models[i], optimizers[i]) for i in range(3)]\n",
    "losses = [[], [], []]"
   ]
  },
  {
   "cell_type": "code",
   "execution_count": 12,
   "metadata": {},
   "outputs": [
    {
     "name": "stdout",
     "output_type": "stream",
     "text": [
      "[1]     loss[0]: 20.530, loss[1]: 20.530, loss[2]: 20.530, time: 0.7s\n",
      "[2]     loss[0]: 20.146, loss[1]: 20.119, loss[2]: 20.119, time: 0.1s\n"
     ]
    }
   ],
   "source": [
    "t0 = time.time()\n",
    "\n",
    "for i in range(2):\n",
    "    data = data_generator.generate_batch(BATCH_SIZE, 40).to(device)\n",
    "    forward_idxs = [i for i in range(data.shape[1]) if i % 2 == 0]\n",
    "    \n",
    "    x = data[:, :-1, :]\n",
    "    y = data[:, 1:, :]\n",
    "    \n",
    "    for k, (model, optimizer) in enumerate(models_and_optimizers):\n",
    "        lr = get_lr(i, k)\n",
    "        for param_group in optimizer.param_groups:\n",
    "            param_group[\"lr\"] = lr\n",
    "        \n",
    "        with context:\n",
    "            y_hat, loss = model(x, y, backward=True, \n",
    "                                forward_idxs=forward_idxs, fast_backward=True)\n",
    "\n",
    "        optimizer.step()\n",
    "        optimizer.zero_grad()\n",
    "\n",
    "        losses[k].append(loss.detach().cpu())\n",
    "    \n",
    "    if (i + 1) % EVAL_INTERVAL == 0:\n",
    "        print(f\"{f'[{i + 1}]':8}\", end=\"\")\n",
    "\n",
    "        dt = time.time() - t0\n",
    "        t0 = time.time()\n",
    "\n",
    "        for k in range(3):\n",
    "            loss = np.mean(losses[k][-EVAL_INTERVAL:])\n",
    "            print(f\"loss[{k}]: {loss:.3f}\", end=\", \")\n",
    "\n",
    "        print(f\"time: {dt:.1f}s\")"
   ]
  },
  {
   "cell_type": "code",
   "execution_count": null,
   "metadata": {},
   "outputs": [],
   "source": []
  }
 ],
 "metadata": {
  "kernelspec": {
   "display_name": "base",
   "language": "python",
   "name": "python3"
  },
  "language_info": {
   "codemirror_mode": {
    "name": "ipython",
    "version": 3
   },
   "file_extension": ".py",
   "mimetype": "text/x-python",
   "name": "python",
   "nbconvert_exporter": "python",
   "pygments_lexer": "ipython3",
   "version": "3.12.2"
  }
 },
 "nbformat": 4,
 "nbformat_minor": 2
}
