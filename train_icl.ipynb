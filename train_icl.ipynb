{
 "cells": [
  {
   "cell_type": "code",
   "execution_count": null,
   "metadata": {},
   "outputs": [],
   "source": [
    "# uncomment for running in colab\n",
    "\n",
    "# from google.colab import drive\n",
    "# drive.mount(\"/content/drive\")\n",
    "# %cd /content/drive/MyDrive/noncausal-transformer/"
   ]
  },
  {
   "cell_type": "code",
   "execution_count": 2,
   "metadata": {},
   "outputs": [
    {
     "name": "stdout",
     "output_type": "stream",
     "text": [
      "using mps device\n"
     ]
    }
   ],
   "source": [
    "from contextlib import nullcontext\n",
    "import time\n",
    "import numpy as np\n",
    "import matplotlib.pyplot as plt\n",
    "import torch\n",
    "import torch.nn.functional as F\n",
    "from model import DecoderTransformerStack, DecoderTransformerConfig\n",
    "from icl_data import LinearGenerator\n",
    "\n",
    "if torch.cuda.is_available():\n",
    "    device = \"cuda\"\n",
    "elif torch.backends.mps.is_available():\n",
    "    device = \"mps\"\n",
    "else:\n",
    "    device = \"cpu\"\n",
    "\n",
    "context = nullcontext() if device == \"mps\" else torch.autocast(device)\n",
    "\n",
    "print(f\"using {device} device\")"
   ]
  },
  {
   "cell_type": "code",
   "execution_count": 3,
   "metadata": {},
   "outputs": [],
   "source": [
    "OUT_DIR = \"out\"\n",
    "\n",
    "MAX_ITERS = 2000\n",
    "EVAL_INTERVAL = 50\n",
    "\n",
    "N_EXAMPLES = 128\n",
    "N_BATCH = 128\n",
    "\n",
    "MIN_LR = 1e-4\n",
    "MAX_LR = 1e-5\n",
    "WARMUP_ITERS = MAX_ITERS // 100\n",
    "LR_DECAY_ITERS = MAX_ITERS - WARMUP_ITERS"
   ]
  },
  {
   "cell_type": "code",
   "execution_count": 4,
   "metadata": {},
   "outputs": [],
   "source": [
    "model_architectures = {\n",
    "    \"tiny\": {\n",
    "        \"n_embd\": 64,\n",
    "        \"n_layer\": 3,\n",
    "        \"n_head\": 2,\n",
    "    },\n",
    "    \"small\": {\n",
    "        \"n_embd\": 128,\n",
    "        \"n_layer\": 6,\n",
    "        \"n_head\": 4,\n",
    "    },\n",
    "    \"standard\": {\n",
    "        \"n_embd\": 256,\n",
    "        \"n_layer\": 12,\n",
    "        \"n_head\": 8,\n",
    "    }\n",
    "}"
   ]
  },
  {
   "cell_type": "code",
   "execution_count": 5,
   "metadata": {},
   "outputs": [],
   "source": [
    "model_architecture = model_architectures[\"tiny\"]\n",
    "\n",
    "causal_config = DecoderTransformerConfig(\n",
    "    block_size=N_EXAMPLES * 2,\n",
    "    n_layer=model_architecture[\"n_layer\"],\n",
    "    n_head=model_architecture[\"n_head\"],\n",
    "    n_embd=model_architecture[\"n_embd\"],\n",
    "    is_causal=True,\n",
    "    loss_fn=F.mse_loss,\n",
    ")\n",
    "\n",
    "noncausal_config = DecoderTransformerConfig(\n",
    "    block_size=N_EXAMPLES * 2 + 1,\n",
    "    n_layer=model_architecture[\"n_layer\"],\n",
    "    n_head=model_architecture[\"n_head\"],\n",
    "    n_embd=model_architecture[\"n_embd\"],\n",
    "    is_causal=False,\n",
    "    loss_fn=F.mse_loss,\n",
    ")"
   ]
  },
  {
   "cell_type": "code",
   "execution_count": 6,
   "metadata": {},
   "outputs": [],
   "source": [
    "data_generator = LinearGenerator(model_architecture[\"n_embd\"], model_architecture[\"n_embd\"])"
   ]
  },
  {
   "cell_type": "code",
   "execution_count": 7,
   "metadata": {},
   "outputs": [],
   "source": [
    "def get_lr(iter_num: int) -> float:\n",
    "    if iter_num < WARMUP_ITERS:\n",
    "        return MAX_LR * iter_num / WARMUP_ITERS\n",
    "    \n",
    "    if iter_num > LR_DECAY_ITERS:\n",
    "        return MIN_LR\n",
    "    \n",
    "    decay_ratio = (iter_num - WARMUP_ITERS) / (LR_DECAY_ITERS - WARMUP_ITERS)\n",
    "    assert 0 <= decay_ratio and decay_ratio <= 1\n",
    "    coeff = 0.5 * (1.0 + np.cos(np.pi * decay_ratio))\n",
    "    return MIN_LR + coeff * (MAX_LR - MIN_LR)"
   ]
  },
  {
   "cell_type": "code",
   "execution_count": 8,
   "metadata": {},
   "outputs": [],
   "source": [
    "causal_model = DecoderTransformerStack(causal_config).to(device)\n",
    "noncausal_model = DecoderTransformerStack(noncausal_config).to(device)\n",
    "\n",
    "with torch.no_grad():\n",
    "    for (n1, p1), (n2, p2) in zip(\n",
    "        causal_model.named_parameters(), \n",
    "        noncausal_model.named_parameters(),\n",
    "    ):\n",
    "        assert n1 == n2\n",
    "        p1.copy_(p2)"
   ]
  },
  {
   "cell_type": "code",
   "execution_count": null,
   "metadata": {},
   "outputs": [],
   "source": [
    "causal_optimizer = causal_model.configure_optimizers(weight_decay=0.1, learning_rate=MIN_LR, \n",
    "                                                     betas=(0.9, 0.99), device_type=device)\n",
    "\n",
    "noncausal_optimizer = noncausal_model.configure_optimizers(weight_decay=0.1, learning_rate=MIN_LR, \n",
    "                                                           betas=(0.9, 0.99), device_type=device)"
   ]
  },
  {
   "cell_type": "code",
   "execution_count": null,
   "metadata": {},
   "outputs": [],
   "source": [
    "models_and_optimizers = [(causal_model, causal_optimizer), (noncausal_model, noncausal_optimizer)]\n",
    "losses = [[], []]"
   ]
  },
  {
   "cell_type": "code",
   "execution_count": null,
   "metadata": {},
   "outputs": [],
   "source": [
    "t0 = time.time()\n",
    "\n",
    "for i in range(MAX_ITERS):\n",
    "    data = data_generator.generate_batch(N_BATCH, N_EXAMPLES).to(device)\n",
    "    x = data[:, :-1, :]\n",
    "    y = data[:, 1:, :]\n",
    "    \n",
    "    lr = get_lr(i)\n",
    "    for k, (model, optimizer) in enumerate(models_and_optimizers):\n",
    "        for param_group in optimizer.param_groups:\n",
    "            param_group[\"lr\"] = lr\n",
    "        \n",
    "        with context:\n",
    "            _, loss = model(x, y, backward=True)\n",
    "\n",
    "        optimizer.step()\n",
    "        optimizer.zero_grad()\n",
    "\n",
    "        losses[k].append(loss.detach().cpu())\n",
    "    \n",
    "    if (i + 1) % EVAL_INTERVAL == 0:\n",
    "        dt = time.time() - t0\n",
    "        t0 = time.time()\n",
    "        print(f\"{f'[{i + 1}]':8}\", end=\"\")\n",
    "        print(f\"causal loss: {np.mean(losses[0][-EVAL_INTERVAL:]):.3f}\", end=\", \")\n",
    "        print(f\"noncausal loss: {np.mean(losses[0][-EVAL_INTERVAL:]):.3f}\", end=\", \")\n",
    "        print(f\"time: {dt:.1f}s\")\n",
    "    \n",
    "    i += 1"
   ]
  },
  {
   "cell_type": "code",
   "execution_count": null,
   "metadata": {},
   "outputs": [],
   "source": [
    "plt.plot(losses[0], label=\"causal\")\n",
    "plt.plot(losses[1], label=\"noncausal\")\n",
    "plt.xlabel(\"Iteration\")\n",
    "plt.ylabel(\"Loss\")\n",
    "plt.legend()\n",
    "plt.show()"
   ]
  }
 ],
 "metadata": {
  "kernelspec": {
   "display_name": "base",
   "language": "python",
   "name": "python3"
  },
  "language_info": {
   "codemirror_mode": {
    "name": "ipython",
    "version": 3
   },
   "file_extension": ".py",
   "mimetype": "text/x-python",
   "name": "python",
   "nbconvert_exporter": "python",
   "pygments_lexer": "ipython3",
   "version": "3.12.2"
  }
 },
 "nbformat": 4,
 "nbformat_minor": 2
}
