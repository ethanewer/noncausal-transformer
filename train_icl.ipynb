{
 "cells": [
  {
   "cell_type": "code",
   "execution_count": null,
   "metadata": {},
   "outputs": [],
   "source": [
    "# uncomment for running in colab\n",
    "\n",
    "# from google.colab import drive\n",
    "# drive.mount(\"/content/drive\")\n",
    "# %cd /content/drive/MyDrive/noncausal-transformer/"
   ]
  },
  {
   "cell_type": "code",
   "execution_count": 1,
   "metadata": {},
   "outputs": [
    {
     "name": "stdout",
     "output_type": "stream",
     "text": [
      "using cuda device\n"
     ]
    }
   ],
   "source": [
    "from contextlib import nullcontext\n",
    "import time\n",
    "import numpy as np\n",
    "import matplotlib.pyplot as plt\n",
    "import torch\n",
    "import torch.nn.functional as F\n",
    "from model import DecoderTransformerStack, DecoderTransformerConfig\n",
    "from icl_data import LinearGenerator\n",
    "\n",
    "if torch.cuda.is_available():\n",
    "    device = \"cuda\"\n",
    "elif torch.backends.mps.is_available():\n",
    "    device = \"mps\"\n",
    "else:\n",
    "    device = \"cpu\"\n",
    "\n",
    "context = nullcontext() if device == \"mps\" else torch.autocast(device)\n",
    "\n",
    "print(f\"using {device} device\")"
   ]
  },
  {
   "cell_type": "code",
   "execution_count": 2,
   "metadata": {},
   "outputs": [],
   "source": [
    "OUT_DIR = \"out\"\n",
    "\n",
    "MAX_ITERS = 2000\n",
    "EVAL_INTERVAL = 50\n",
    "\n",
    "BLOCK_SIZE = 256\n",
    "BATCH_SIZE = 128\n",
    "\n",
    "MIN_LR = 1e-4\n",
    "MAX_LR = 1e-5\n",
    "WARMUP_ITERS = MAX_ITERS // 100\n",
    "LR_DECAY_ITERS = MAX_ITERS - WARMUP_ITERS"
   ]
  },
  {
   "cell_type": "code",
   "execution_count": 3,
   "metadata": {},
   "outputs": [],
   "source": [
    "model_architectures = {\n",
    "    \"tiny\": {\n",
    "        \"n_embd\": 64,\n",
    "        \"n_layer\": 3,\n",
    "        \"n_head\": 2,\n",
    "    },\n",
    "    \"small\": {\n",
    "        \"n_embd\": 128,\n",
    "        \"n_layer\": 6,\n",
    "        \"n_head\": 4,\n",
    "    },\n",
    "    \"standard\": {\n",
    "        \"n_embd\": 256,\n",
    "        \"n_layer\": 12,\n",
    "        \"n_head\": 8,\n",
    "    }\n",
    "}"
   ]
  },
  {
   "cell_type": "code",
   "execution_count": 4,
   "metadata": {},
   "outputs": [],
   "source": [
    "model_architecture = model_architectures[\"tiny\"]\n",
    "\n",
    "causal_config = DecoderTransformerConfig(\n",
    "    block_size=BLOCK_SIZE,\n",
    "    n_layer=model_architecture[\"n_layer\"],\n",
    "    n_head=model_architecture[\"n_head\"],\n",
    "    n_embd=model_architecture[\"n_embd\"],\n",
    "    is_causal=True,\n",
    "    loss_fn=F.mse_loss,\n",
    ")\n",
    "\n",
    "noncausal_config = DecoderTransformerConfig(\n",
    "    block_size=BLOCK_SIZE,\n",
    "    n_layer=model_architecture[\"n_layer\"],\n",
    "    n_head=model_architecture[\"n_head\"],\n",
    "    n_embd=model_architecture[\"n_embd\"],\n",
    "    is_causal=False,\n",
    "    loss_fn=F.mse_loss,\n",
    ")"
   ]
  },
  {
   "cell_type": "code",
   "execution_count": 5,
   "metadata": {},
   "outputs": [],
   "source": [
    "data_generator = LinearGenerator(model_architecture[\"n_embd\"], model_architecture[\"n_embd\"])"
   ]
  },
  {
   "cell_type": "code",
   "execution_count": 6,
   "metadata": {},
   "outputs": [],
   "source": [
    "def get_lr(iter_num: int) -> float:\n",
    "    if iter_num < WARMUP_ITERS:\n",
    "        return MAX_LR * iter_num / WARMUP_ITERS\n",
    "    \n",
    "    if iter_num > LR_DECAY_ITERS:\n",
    "        return MIN_LR\n",
    "    \n",
    "    decay_ratio = (iter_num - WARMUP_ITERS) / (LR_DECAY_ITERS - WARMUP_ITERS)\n",
    "    assert 0 <= decay_ratio and decay_ratio <= 1\n",
    "    coeff = 0.5 * (1.0 + np.cos(np.pi * decay_ratio))\n",
    "    return MIN_LR + coeff * (MAX_LR - MIN_LR)"
   ]
  },
  {
   "cell_type": "code",
   "execution_count": 7,
   "metadata": {},
   "outputs": [],
   "source": [
    "causal_model = DecoderTransformerStack(causal_config).to(device)\n",
    "noncausal_model = DecoderTransformerStack(noncausal_config).to(device)\n",
    "\n",
    "with torch.no_grad():\n",
    "    for (n1, p1), (n2, p2) in zip(\n",
    "        causal_model.named_parameters(), \n",
    "        noncausal_model.named_parameters(),\n",
    "    ):\n",
    "        assert n1 == n2\n",
    "        p1.copy_(p2)"
   ]
  },
  {
   "cell_type": "code",
   "execution_count": 8,
   "metadata": {},
   "outputs": [],
   "source": [
    "causal_optimizer = causal_model.configure_optimizers(weight_decay=0.1, learning_rate=MIN_LR, \n",
    "                                                     betas=(0.9, 0.99), device_type=device)\n",
    "\n",
    "noncausal_optimizer = noncausal_model.configure_optimizers(weight_decay=0.1, learning_rate=MIN_LR, \n",
    "                                                           betas=(0.9, 0.99), device_type=device)"
   ]
  },
  {
   "cell_type": "code",
   "execution_count": 9,
   "metadata": {},
   "outputs": [],
   "source": [
    "models_and_optimizers = [(causal_model, causal_optimizer), (noncausal_model, noncausal_optimizer)]\n",
    "losses = [[], []]"
   ]
  },
  {
   "cell_type": "code",
   "execution_count": 10,
   "metadata": {},
   "outputs": [
    {
     "name": "stdout",
     "output_type": "stream",
     "text": [
      "[50]    causal loss: 65.951, noncausal loss: 65.951, time: 80.0s\n",
      "[100]   causal loss: 65.870, noncausal loss: 65.870, time: 78.1s\n",
      "[150]   causal loss: 65.805, noncausal loss: 65.805, time: 77.8s\n",
      "[200]   causal loss: 65.747, noncausal loss: 65.748, time: 77.7s\n",
      "[250]   causal loss: 65.692, noncausal loss: 65.693, time: 78.2s\n",
      "[300]   causal loss: 65.562, noncausal loss: 65.564, time: 78.2s\n",
      "[350]   causal loss: 65.443, noncausal loss: 65.445, time: 78.4s\n",
      "[400]   causal loss: 65.296, noncausal loss: 65.298, time: 78.5s\n",
      "[450]   causal loss: 65.135, noncausal loss: 65.138, time: 78.5s\n",
      "[500]   causal loss: 65.005, noncausal loss: 65.009, time: 78.3s\n",
      "[550]   causal loss: 64.748, noncausal loss: 64.753, time: 78.2s\n",
      "[600]   causal loss: 64.469, noncausal loss: 64.475, time: 78.2s\n",
      "[650]   causal loss: 64.076, noncausal loss: 64.085, time: 78.2s\n",
      "[700]   causal loss: 63.716, noncausal loss: 63.727, time: 78.3s\n",
      "[750]   causal loss: 63.244, noncausal loss: 63.260, time: 78.0s\n",
      "[800]   causal loss: 62.646, noncausal loss: 62.668, time: 77.8s\n",
      "[850]   causal loss: 61.916, noncausal loss: 61.946, time: 78.4s\n",
      "[900]   causal loss: 60.986, noncausal loss: 61.029, time: 78.1s\n",
      "[950]   causal loss: 59.896, noncausal loss: 59.957, time: 78.2s\n",
      "[1000]  causal loss: 58.662, noncausal loss: 58.749, time: 78.2s\n",
      "[1050]  causal loss: 57.136, noncausal loss: 57.261, time: 78.2s\n",
      "[1100]  causal loss: 55.401, noncausal loss: 55.582, time: 78.1s\n",
      "[1150]  causal loss: 53.343, noncausal loss: 53.607, time: 77.9s\n",
      "[1200]  causal loss: 50.918, noncausal loss: 51.305, time: 78.1s\n",
      "[1250]  causal loss: 48.124, noncausal loss: 48.709, time: 78.1s\n",
      "[1300]  causal loss: 44.844, noncausal loss: 45.653, time: 78.3s\n",
      "[1350]  causal loss: 41.279, noncausal loss: 42.164, time: 78.1s\n",
      "[1400]  causal loss: 37.456, noncausal loss: 38.383, time: 77.9s\n",
      "[1450]  causal loss: 33.380, noncausal loss: 34.287, time: 77.8s\n",
      "[1500]  causal loss: 28.995, noncausal loss: 29.895, time: 78.3s\n",
      "[1550]  causal loss: 24.466, noncausal loss: 25.263, time: 78.2s\n",
      "[1600]  causal loss: 19.748, noncausal loss: 20.466, time: 78.0s\n",
      "[1650]  causal loss: 15.326, noncausal loss: 15.812, time: 78.6s\n",
      "[1700]  causal loss: 11.617, noncausal loss: 11.804, time: 78.4s\n",
      "[1750]  causal loss: 8.700, noncausal loss: 8.623, time: 78.2s\n",
      "[1800]  causal loss: 6.561, noncausal loss: 6.303, time: 78.1s\n",
      "[1850]  causal loss: 5.032, noncausal loss: 4.728, time: 78.0s\n",
      "[1900]  causal loss: 4.014, noncausal loss: 3.743, time: 78.1s\n",
      "[1950]  causal loss: 3.343, noncausal loss: 3.134, time: 78.6s\n",
      "[2000]  causal loss: 2.898, noncausal loss: 2.752, time: 78.2s\n"
     ]
    }
   ],
   "source": [
    "t0 = time.time()\n",
    "forward_idxs = [i for i in range(BLOCK_SIZE) if i % 2 == 1]\n",
    "\n",
    "for i in range(MAX_ITERS):\n",
    "    data = data_generator.generate_batch(BATCH_SIZE, BLOCK_SIZE // 2).to(device)\n",
    "    x = data[:, :-1, :]\n",
    "    y = data[:, 1:, :]\n",
    "    \n",
    "    lr = get_lr(i)\n",
    "    for k, (model, optimizer) in enumerate(models_and_optimizers):\n",
    "        for param_group in optimizer.param_groups:\n",
    "            param_group[\"lr\"] = lr\n",
    "        \n",
    "        with context:\n",
    "            _, loss = model(x, y, backward=True, forward_idxs=forward_idxs)\n",
    "\n",
    "        optimizer.step()\n",
    "        optimizer.zero_grad()\n",
    "\n",
    "        losses[k].append(loss.detach().cpu())\n",
    "    \n",
    "    if (i + 1) % EVAL_INTERVAL == 0:\n",
    "        dt = time.time() - t0\n",
    "        t0 = time.time()\n",
    "        print(f\"{f'[{i + 1}]':8}\", end=\"\")\n",
    "        print(f\"causal loss: {np.mean(losses[0][-EVAL_INTERVAL:]):.3f}\", end=\", \")\n",
    "        print(f\"noncausal loss: {np.mean(losses[1][-EVAL_INTERVAL:]):.3f}\", end=\", \")\n",
    "        print(f\"time: {dt:.1f}s\")\n",
    "    \n",
    "    i += 1"
   ]
  },
  {
   "cell_type": "code",
   "execution_count": 11,
   "metadata": {},
   "outputs": [
    {
     "data": {
      "image/png": "[encoded data removed]",
      "text/plain": [
       "<Figure size 640x480 with 1 Axes>"
      ]
     },
     "metadata": {},
     "output_type": "display_data"
    }
   ],
   "source": [
    "plt.plot(losses[0], label=\"causal\")\n",
    "plt.plot(losses[1], label=\"noncausal\")\n",
    "plt.xlabel(\"Iteration\")\n",
    "plt.ylabel(\"Loss\")\n",
    "plt.legend()\n",
    "plt.show()"
   ]
  }
 ],
 "metadata": {
  "kernelspec": {
   "display_name": "base",
   "language": "python",
   "name": "python3"
  },
  "language_info": {
   "codemirror_mode": {
    "name": "ipython",
    "version": 3
   },
   "file_extension": ".py",
   "mimetype": "text/x-python",
   "name": "python",
   "nbconvert_exporter": "python",
   "pygments_lexer": "ipython3",
   "version": "3.10.14"
  }
 },
 "nbformat": 4,
 "nbformat_minor": 2
}
